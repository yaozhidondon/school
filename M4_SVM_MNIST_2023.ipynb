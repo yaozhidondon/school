{
 "cells": [
  {
   "cell_type": "markdown",
   "metadata": {},
   "source": [
    "## Demo : SVM for MNIST Digit Recognition\n",
    "In this demo, you will learn to:\n",
    "1. Load and display images\n",
    "2. Build a simple SVM image classifier\n",
    "3. Use SVM for diferent kernele eg linear, rbf\n",
    "4. Save and load results using pickle\n",
    "\n",
    "### Dataset:\n",
    "For data, we will use the classic MNIST data set used to recognize hand-written digits. The dataset was originally produced in the 1980s and is now widely-used in machine learning classes as a simple image classification problem."
   ]
  },
  {
   "cell_type": "markdown",
   "metadata": {},
   "source": [
    "Loading the Data\n",
    "First, we load the standard pack"
   ]
  },
  {
   "cell_type": "code",
   "execution_count": 1,
   "metadata": {},
   "outputs": [],
   "source": [
    "import numpy as np\n",
    "import matplotlib\n",
    "import matplotlib.pyplot as plt\n",
    "%matplotlib inline"
   ]
  },
  {
   "cell_type": "markdown",
   "metadata": {},
   "source": [
    "The sklearn module has the MNIST dataset module built in. It can be loaded as follows. "
   ]
  },
  {
   "cell_type": "code",
   "execution_count": 2,
   "metadata": {},
   "outputs": [
    {
     "data": {
      "text/plain": [
       "(1797, 8, 8)"
      ]
     },
     "execution_count": 2,
     "metadata": {},
     "output_type": "execute_result"
    }
   ],
   "source": [
    "from sklearn import datasets, linear_model, preprocessing\n",
    "digits = datasets.load_digits()\n",
    "images = digits.images\n",
    "labels = digits.target\n",
    "images.shape"
   ]
  },
  {
   "cell_type": "markdown",
   "metadata": {},
   "source": [
    "We can see that the data is stored in an array with 1797 images, each 8 x 8."
   ]
  },
  {
   "cell_type": "markdown",
   "metadata": {},
   "source": [
    "The above is fairly low-resolution. We can get a more high-resolution 28 x 28 image data from the following command. In this data format, each image is stored as a 784 = 28x28 row vector.\n"
   ]
  },
  {
   "cell_type": "code",
   "execution_count": 7,
   "metadata": {},
   "outputs": [],
   "source": [
    "from sklearn.datasets import load_digits\n",
    "mnist = load_digits()"
   ]
  },
  {
   "cell_type": "code",
   "execution_count": 8,
   "metadata": {},
   "outputs": [
    {
     "data": {
      "text/plain": [
       "(1797, 64)"
      ]
     },
     "execution_count": 8,
     "metadata": {},
     "output_type": "execute_result"
    }
   ],
   "source": [
    "mnist.data.shape\n"
   ]
  },
  {
   "cell_type": "markdown",
   "metadata": {},
   "source": [
    "We have 70000 images and each image is 28 x 28, which is stored as a 784 pixel vector. The following code plots a digit. To do this, it reshapes the 784 dim vector to a 28 x 28 array and then uses the plt.imshow command.\n",
    "\n"
   ]
  },
  {
   "cell_type": "code",
   "execution_count": 13,
   "metadata": {},
   "outputs": [
    {
     "data": {
      "image/png": "[encoded data removed]",
      "text/plain": [
       "<Figure size 640x480 with 5 Axes>"
      ]
     },
     "metadata": {},
     "output_type": "display_data"
    }
   ],
   "source": [
    "def plt_digit(x):\n",
    "    rows = 8\n",
    "    cols = 8\n",
    "    xsq = x.reshape((rows,cols))\n",
    "    plt.imshow(xsq,  cmap='Greys_r')\n",
    "    plt.xticks([])\n",
    "    plt.yticks([])\n",
    "\n",
    "# Convert data to a matrix\n",
    "X = mnist.data\n",
    "y = mnist.target\n",
    "\n",
    "# Select random digits\n",
    "nplt = 5\n",
    "nsamp = X.shape[0]\n",
    "Iperm = np.random.permutation(nsamp)\n",
    "\n",
    "# Plot the images using the subplot command\n",
    "for i in range(nplt):\n",
    "    ind = Iperm[i]\n",
    "    plt.subplot(1,nplt,i+1)\n",
    "    plt_digit(X[ind,:])"
   ]
  },
  {
   "cell_type": "markdown",
   "metadata": {},
   "source": [
    "# Run an SVM classifier"
   ]
  },
  {
   "cell_type": "markdown",
   "metadata": {},
   "source": [
    "First, we import the SVM package and construct the SVC with the parameters."
   ]
  },
  {
   "cell_type": "code",
   "execution_count": 14,
   "metadata": {},
   "outputs": [],
   "source": [
    "from sklearn import svm\n",
    "\n",
    "# Create a classifier: a support vector classifier\n",
    "# svc = svm.SVC(probability=False,  kernel=\"rbf\", C=2.8, gamma=.0073,verbose=10)\n",
    "svc = svm.SVC(probability=False,  kernel=\"linear\", C=2.8, gamma=.0073,verbose=10)"
   ]
  },
  {
   "cell_type": "markdown",
   "metadata": {},
   "source": [
    "Next, we get the training and test data. The features are re-scaled to be between -1 and 1.\n",
    "We fit the training data. Again, this will take several minutes."
   ]
  },
  {
   "cell_type": "code",
   "execution_count": 33,
   "metadata": {},
   "outputs": [],
   "source": [
    "Xs = X/255.0*2 - 1\n",
    "ntr = 1000\n",
    "nts = 797\n",
    "Xtr = Xs[Iperm[:ntr],:]\n",
    "ytr = y[Iperm[:ntr]]\n",
    "Xts = Xs[Iperm[ntr:ntr+nts],:]\n",
    "yts = y[Iperm[ntr:ntr+nts]]"
   ]
  },
  {
   "cell_type": "code",
   "execution_count": 34,
   "metadata": {},
   "outputs": [
    {
     "name": "stdout",
     "output_type": "stream",
     "text": [
      "[LibSVM]*\n",
      "optimization finished, #iter = 40\n",
      "obj = -46.727687, rho = 1.519771\n",
      "nSV = 33, nBSV = 26\n",
      "*\n",
      "optimization finished, #iter = 32\n",
      "obj = -52.266681, rho = 2.654319\n",
      "nSV = 34, nBSV = 27\n",
      "*\n",
      "optimization finished, #iter = 35\n",
      "obj = -55.141457, rho = 3.781891\n",
      "nSV = 40, nBSV = 30\n",
      "*\n",
      "optimization finished, #iter = 42\n",
      "obj = -62.270028, rho = -4.958842\n",
      "nSV = 41, nBSV = 33\n",
      "*\n",
      "optimization finished, #iter = 86\n",
      "obj = -73.650199, rho = 3.533310\n",
      "nSV = 51, nBSV = 37\n",
      "*\n",
      "optimization finished, #iter = 36\n",
      "obj = -64.923243, rho = 1.421554\n",
      "nSV = 44, nBSV = 35\n",
      "*\n",
      "optimization finished, #iter = 52\n",
      "obj = -43.807631, rho = 0.983429\n",
      "nSV = 33, nBSV = 21\n",
      "*\n",
      "optimization finished, #iter = 73\n",
      "obj = -58.741377, rho = 5.554508\n",
      "nSV = 44, nBSV = 29\n",
      "*\n",
      "optimization finished, #iter = 44\n",
      "obj = -73.612368, rho = 8.023172\n",
      "nSV = 49, nBSV = 40\n",
      "*\n",
      "optimization finished, #iter = 65\n",
      "obj = -112.482900, rho = 0.785305\n",
      "nSV = 69, nBSV = 58\n",
      "*\n",
      "optimization finished, #iter = 64\n",
      "obj = -90.654167, rho = -1.236291\n",
      "nSV = 56, nBSV = 47\n",
      "*\n",
      "optimization finished, #iter = 51\n",
      "obj = -111.110925, rho = -4.489910\n",
      "nSV = 66, nBSV = 56\n",
      "*\n",
      "optimization finished, #iter = 64\n",
      "obj = -81.411091, rho = -4.326942\n",
      "nSV = 54, nBSV = 42\n",
      "*\n",
      "optimization finished, #iter = 48\n",
      "obj = -72.651932, rho = -3.826126\n",
      "nSV = 47, nBSV = 37\n",
      "*\n",
      "optimization finished, #iter = 54\n",
      "obj = -84.019503, rho = -2.671252\n",
      "nSV = 55, nBSV = 44\n",
      "*\n",
      "optimization finished, #iter = 67\n",
      "obj = -192.495077, rho = -3.993075\n",
      "nSV = 100, nBSV = 92\n",
      "*\n",
      "optimization finished, #iter = 67\n",
      "obj = -109.061599, rho = -6.664531\n",
      "nSV = 67, nBSV = 52\n",
      "*\n",
      "optimization finished, #iter = 61\n",
      "obj = -127.068514, rho = -2.881155\n",
      "nSV = 74, nBSV = 65\n",
      "*\n",
      "optimization finished, #iter = 54\n",
      "obj = -48.184436, rho = -1.133561\n",
      "nSV = 37, nBSV = 24\n",
      "*\n",
      "optimization finished, #iter = 51\n",
      "obj = -73.891036, rho = -4.237234\n",
      "nSV = 51, nBSV = 38\n",
      "*\n",
      "optimization finished, #iter = 85\n",
      "obj = -54.017152, rho = -0.894988\n",
      "nSV = 41, nBSV = 26\n",
      "*\n",
      "optimization finished, #iter = 62\n",
      "obj = -64.648605, rho = -1.410152\n",
      "nSV = 46, nBSV = 33\n",
      "*\n",
      "optimization finished, #iter = 75\n",
      "obj = -118.196728, rho = 7.037524\n",
      "nSV = 75, nBSV = 63\n",
      "*\n",
      "optimization finished, #iter = 59\n",
      "obj = -82.060894, rho = 0.842026\n",
      "nSV = 54, nBSV = 43\n",
      "*\n",
      "optimization finished, #iter = 51\n",
      "obj = -49.047819, rho = -1.496220\n",
      "nSV = 36, nBSV = 25\n",
      "*\n",
      "optimization finished, #iter = 81\n",
      "obj = -105.522088, rho = 1.560425\n",
      "nSV = 64, nBSV = 50\n",
      "*\n",
      "optimization finished, #iter = 41\n",
      "obj = -51.358419, rho = -0.145317\n",
      "nSV = 35, nBSV = 25\n",
      "*\n",
      "optimization finished, #iter = 70\n",
      "obj = -76.332912, rho = -0.023524\n",
      "nSV = 49, nBSV = 38\n",
      "*\n",
      "optimization finished, #iter = 81\n",
      "obj = -140.118126, rho = 14.136992\n",
      "nSV = 79, nBSV = 67\n",
      "*\n",
      "optimization finished, #iter = 78\n",
      "obj = -157.307031, rho = 3.644605\n",
      "nSV = 90, nBSV = 81\n",
      "*\n",
      "optimization finished, #iter = 85\n",
      "obj = -67.733353, rho = -2.022564\n",
      "nSV = 49, nBSV = 33\n",
      "*\n",
      "optimization finished, #iter = 56\n",
      "obj = -76.604998, rho = 2.933555\n",
      "nSV = 49, nBSV = 39\n",
      "*\n",
      "optimization finished, #iter = 63\n",
      "obj = -90.359439, rho = -2.291523\n",
      "nSV = 57, nBSV = 45\n",
      "*\n",
      "optimization finished, #iter = 74\n",
      "obj = -92.067060, rho = 4.596819\n",
      "nSV = 58, nBSV = 44\n",
      "*\n",
      "optimization finished, #iter = 70\n",
      "obj = -77.186196, rho = -1.885997\n",
      "nSV = 50, nBSV = 38\n",
      "*\n",
      "optimization finished, #iter = 52\n",
      "obj = -64.049294, rho = 1.827682\n",
      "nSV = 44, nBSV = 32\n",
      "*\n",
      "optimization finished, #iter = 67\n",
      "obj = -79.781980, rho = 2.054490\n",
      "nSV = 53, nBSV = 43\n",
      "*\n",
      "optimization finished, #iter = 76\n",
      "obj = -122.111387, rho = 11.756338\n",
      "nSV = 76, nBSV = 62\n",
      "*\n",
      "optimization finished, #iter = 85\n",
      "obj = -131.210196, rho = 6.674848\n",
      "nSV = 80, nBSV = 66\n",
      "*\n",
      "optimization finished, #iter = 63\n",
      "obj = -36.462338, rho = 0.736379\n",
      "nSV = 31, nBSV = 16\n",
      "*\n",
      "optimization finished, #iter = 84\n",
      "obj = -85.064380, rho = 4.311083\n",
      "nSV = 56, nBSV = 43\n",
      "*\n",
      "optimization finished, #iter = 68\n",
      "obj = -47.703013, rho = 0.515100\n",
      "nSV = 38, nBSV = 25\n",
      "*\n",
      "optimization finished, #iter = 87\n",
      "obj = -100.646215, rho = 3.549223\n",
      "nSV = 64, nBSV = 50\n",
      "*\n",
      "optimization finished, #iter = 49\n",
      "obj = -100.161642, rho = 1.957629\n",
      "nSV = 60, nBSV = 48\n",
      "*\n",
      "optimization finished, #iter = 79\n",
      "obj = -154.740644, rho = -10.799765\n",
      "nSV = 87, nBSV = 76\n",
      "Total nSV = 683\n"
     ]
    },
    {
     "data": {
      "text/plain": [
       "SVC(C=2.8, gamma=0.0073, kernel='linear', verbose=10)"
      ]
     },
     "execution_count": 34,
     "metadata": {},
     "output_type": "execute_result"
    }
   ],
   "source": [
    "svc.fit(Xtr,ytr)"
   ]
  },
  {
   "cell_type": "code",
   "execution_count": 35,
   "metadata": {},
   "outputs": [],
   "source": [
    "import pickle\n",
    "with open( \"mnist_svc.p\", \"wb\" ) as fp:\n",
    "    pickle.dump( [svc, Xs, y, Iperm, ntr, nts], fp)\n"
   ]
  },
  {
   "cell_type": "markdown",
   "metadata": {},
   "source": [
    "We can reload the data from the pickle in the following manner.\n"
   ]
  },
  {
   "cell_type": "code",
   "execution_count": 36,
   "metadata": {},
   "outputs": [],
   "source": [
    "import pickle\n",
    "with open( \"mnist_svc.p\", \"rb\" ) as fp:\n",
    "    svc, Xs, y, Iperm, ntr, nts = pickle.load(fp)\n",
    "Xtr = Xs[Iperm[:ntr],:]\n",
    "ytr = y[Iperm[:ntr]]\n",
    "Xts = Xs[Iperm[ntr:ntr+nts],:]\n",
    "yts = y[Iperm[ntr:ntr+nts]]"
   ]
  },
  {
   "cell_type": "code",
   "execution_count": 37,
   "metadata": {},
   "outputs": [
    {
     "data": {
      "text/plain": [
       "(797, 64)"
      ]
     },
     "execution_count": 37,
     "metadata": {},
     "output_type": "execute_result"
    }
   ],
   "source": [
    "Xts.shape"
   ]
  },
  {
   "cell_type": "code",
   "execution_count": null,
   "metadata": {},
   "outputs": [],
   "source": []
  },
  {
   "cell_type": "markdown",
   "metadata": {},
   "source": [
    "Now we will measure the accuracy on the test data. The prediction can take several minutes as SVMs are very slow.\n",
    "\n"
   ]
  },
  {
   "cell_type": "code",
   "execution_count": 38,
   "metadata": {},
   "outputs": [],
   "source": [
    "yhat_ts = svc.predict(Xts)"
   ]
  },
  {
   "cell_type": "markdown",
   "metadata": {},
   "source": [
    "Since even the prediction (sometimes called inference) is slow with SVMs, we will save the results in pickle file. Instead of running the prediction again, you can recapture the data with the following comamnd"
   ]
  },
  {
   "cell_type": "code",
   "execution_count": 39,
   "metadata": {},
   "outputs": [],
   "source": [
    "with open(\"mnist_svc_test.p\", \"wb\") as fp:\n",
    "    pickle.dump([yts,yhat_ts,Xts], fp)"
   ]
  },
  {
   "cell_type": "code",
   "execution_count": 40,
   "metadata": {},
   "outputs": [],
   "source": [
    "with open(\"mnist_svc_test.p\", \"rb\") as fp:\n",
    "    yts,yhat1,Xts = pickle.load(fp)"
   ]
  },
  {
   "cell_type": "code",
   "execution_count": 41,
   "metadata": {},
   "outputs": [
    {
     "name": "stdout",
     "output_type": "stream",
     "text": [
      "Accuaracy = 0.972396\n"
     ]
    }
   ],
   "source": [
    "acc = np.mean(yhat_ts == yts)\n",
    "print('Accuaracy = {0:f}'.format(acc))"
   ]
  },
  {
   "cell_type": "markdown",
   "metadata": {},
   "source": [
    "# Looking at the Support Vectors"
   ]
  },
  {
   "cell_type": "markdown",
   "metadata": {},
   "source": [
    "\n",
    "Looking at the Support Vectors\n",
    "Let's take a look at the support vectors. We see there about over 2500 support vectors. So, about quarter the training samples were used as SVs. This is partly why the prediction was so slow."
   ]
  },
  {
   "cell_type": "code",
   "execution_count": 42,
   "metadata": {},
   "outputs": [
    {
     "data": {
      "text/plain": [
       "(683, 64)"
      ]
     },
     "execution_count": 42,
     "metadata": {},
     "output_type": "execute_result"
    }
   ],
   "source": [
    "S = svc.support_vectors_\n",
    "S.shape"
   ]
  },
  {
   "cell_type": "markdown",
   "metadata": {},
   "source": [
    "Let us plot some support vectors"
   ]
  },
  {
   "cell_type": "code",
   "execution_count": 43,
   "metadata": {},
   "outputs": [
    {
     "data": {
      "image/png": "[encoded data removed]",
      "text/plain": [
       "<Figure size 1000x400 with 5 Axes>"
      ]
     },
     "metadata": {},
     "output_type": "display_data"
    }
   ],
   "source": [
    "nplt = 5\n",
    "nsv = S.shape[0]\n",
    "Iperms = np.random.permutation(nsv)\n",
    "plt.figure(figsize=(10, 4))\n",
    "for i in range(nplt):        \n",
    "    plt.subplot(1,nplt,i+1)        \n",
    "    ind = Iperms[i]\n",
    "    plt_digit(S[ind,:])"
   ]
  },
  {
   "cell_type": "markdown",
   "metadata": {},
   "source": [
    "# Now let us see the performanc of SVM using the RBF kernel\n"
   ]
  },
  {
   "cell_type": "code",
   "execution_count": 44,
   "metadata": {},
   "outputs": [],
   "source": [
    "# Create a support vector classifier\n",
    "svcrbf = svm.SVC(probability=False,  kernel=\"rbf\", C=2.8, gamma=.0073,verbose=10)"
   ]
  },
  {
   "cell_type": "code",
   "execution_count": 45,
   "metadata": {},
   "outputs": [
    {
     "name": "stdout",
     "output_type": "stream",
     "text": [
      "[LibSVM]*\n",
      "optimization finished, #iter = 93\n",
      "obj = -467.663065, rho = -0.676461\n",
      "nSV = 186, nBSV = 186\n",
      "*\n",
      "optimization finished, #iter = 99\n",
      "obj = -502.392929, rho = -0.710267\n",
      "nSV = 198, nBSV = 198\n",
      "*\n",
      "optimization finished, #iter = 100\n",
      "obj = -512.302657, rho = -0.754929\n",
      "nSV = 200, nBSV = 200\n",
      "*\n",
      "optimization finished, #iter = 91\n",
      "obj = -474.242470, rho = -0.773891\n",
      "nSV = 182, nBSV = 182\n",
      "*\n",
      "optimization finished, #iter = 106\n",
      "obj = -531.842987, rho = 0.815218\n",
      "nSV = 206, nBSV = 203\n",
      "*\n",
      "optimization finished, #iter = 95\n",
      "obj = -496.051082, rho = -0.804100\n",
      "nSV = 190, nBSV = 190\n",
      "*\n",
      "optimization finished, #iter = 106\n",
      "obj = -509.767633, rho = 0.759367\n",
      "nSV = 205, nBSV = 203\n",
      "*\n",
      "optimization finished, #iter = 97\n",
      "obj = -508.610472, rho = -0.795382\n",
      "nSV = 194, nBSV = 194\n",
      "*\n",
      "optimization finished, #iter = 103\n",
      "obj = -539.338699, rho = 0.878372\n",
      "nSV = 204, nBSV = 204\n",
      "*\n",
      "optimization finished, #iter = 96\n",
      "obj = -496.715333, rho = 0.845279\n",
      "nSV = 186, nBSV = 186\n",
      "*\n",
      "optimization finished, #iter = 95\n",
      "obj = -490.812138, rho = 0.775892\n",
      "nSV = 186, nBSV = 186\n",
      "*\n",
      "optimization finished, #iter = 92\n",
      "obj = -486.034043, rho = -0.881973\n",
      "nSV = 183, nBSV = 181\n",
      "*\n",
      "optimization finished, #iter = 98\n",
      "obj = -490.829635, rho = 0.825626\n",
      "nSV = 187, nBSV = 185\n",
      "*\n",
      "optimization finished, #iter = 94\n",
      "obj = -483.629303, rho = 0.735286\n",
      "nSV = 186, nBSV = 186\n",
      "*\n",
      "optimization finished, #iter = 97\n",
      "obj = -493.097535, rho = 0.835608\n",
      "nSV = 186, nBSV = 186\n",
      "*\n",
      "optimization finished, #iter = 95\n",
      "obj = -507.740746, rho = 0.867666\n",
      "nSV = 186, nBSV = 186\n",
      "*\n",
      "optimization finished, #iter = 98\n",
      "obj = -490.342687, rho = 0.806573\n",
      "nSV = 188, nBSV = 184\n",
      "*\n",
      "optimization finished, #iter = 100\n",
      "obj = -531.535079, rho = 0.831828\n",
      "nSV = 198, nBSV = 198\n",
      "*\n",
      "optimization finished, #iter = 91\n",
      "obj = -460.650048, rho = -0.729680\n",
      "nSV = 182, nBSV = 182\n",
      "*\n",
      "optimization finished, #iter = 102\n",
      "obj = -520.833476, rho = 0.833174\n",
      "nSV = 198, nBSV = 198\n",
      "*\n",
      "optimization finished, #iter = 95\n",
      "obj = -490.366768, rho = -0.800125\n",
      "nSV = 190, nBSV = 190\n",
      "*\n",
      "optimization finished, #iter = 103\n",
      "obj = -512.166581, rho = 0.770839\n",
      "nSV = 199, nBSV = 197\n",
      "*\n",
      "optimization finished, #iter = 97\n",
      "obj = -521.663412, rho = -0.842435\n",
      "nSV = 194, nBSV = 194\n",
      "*\n",
      "optimization finished, #iter = 101\n",
      "obj = -518.384568, rho = 0.792850\n",
      "nSV = 198, nBSV = 198\n",
      "*\n",
      "optimization finished, #iter = 91\n",
      "obj = -457.284641, rho = -0.696411\n",
      "nSV = 182, nBSV = 182\n",
      "*\n",
      "optimization finished, #iter = 103\n",
      "obj = -530.682630, rho = 0.830341\n",
      "nSV = 200, nBSV = 200\n",
      "*\n",
      "optimization finished, #iter = 95\n",
      "obj = -480.813260, rho = -0.726042\n",
      "nSV = 190, nBSV = 190\n",
      "*\n",
      "optimization finished, #iter = 105\n",
      "obj = -520.529068, rho = 0.824872\n",
      "nSV = 200, nBSV = 200\n",
      "*\n",
      "optimization finished, #iter = 97\n",
      "obj = -521.805179, rho = -0.840615\n",
      "nSV = 194, nBSV = 194\n",
      "*\n",
      "optimization finished, #iter = 102\n",
      "obj = -544.005415, rho = 0.896273\n",
      "nSV = 200, nBSV = 200\n",
      "*\n",
      "optimization finished, #iter = 97\n",
      "obj = -475.082773, rho = 0.820941\n",
      "nSV = 182, nBSV = 182\n",
      "*\n",
      "optimization finished, #iter = 95\n",
      "obj = -482.442772, rho = 0.825355\n",
      "nSV = 183, nBSV = 181\n",
      "*\n",
      "optimization finished, #iter = 96\n",
      "obj = -481.337605, rho = 0.836650\n",
      "nSV = 182, nBSV = 182\n",
      "*\n",
      "optimization finished, #iter = 93\n",
      "obj = -481.620088, rho = 0.837236\n",
      "nSV = 182, nBSV = 182\n",
      "*\n",
      "optimization finished, #iter = 94\n",
      "obj = -470.204125, rho = 0.764980\n",
      "nSV = 182, nBSV = 182\n",
      "*\n",
      "optimization finished, #iter = 95\n",
      "obj = -494.009204, rho = -0.830383\n",
      "nSV = 190, nBSV = 190\n",
      "*\n",
      "optimization finished, #iter = 108\n",
      "obj = -558.870568, rho = -0.813433\n",
      "nSV = 215, nBSV = 213\n",
      "*\n",
      "optimization finished, #iter = 97\n",
      "obj = -523.450389, rho = -0.898123\n",
      "nSV = 194, nBSV = 194\n",
      "*\n",
      "optimization finished, #iter = 103\n",
      "obj = -549.615026, rho = -0.814267\n",
      "nSV = 206, nBSV = 206\n",
      "*\n",
      "optimization finished, #iter = 98\n",
      "obj = -474.616483, rho = 0.756856\n",
      "nSV = 191, nBSV = 189\n",
      "*\n",
      "optimization finished, #iter = 97\n",
      "obj = -501.566873, rho = 0.836716\n",
      "nSV = 190, nBSV = 190\n",
      "*\n",
      "optimization finished, #iter = 99\n",
      "obj = -485.582673, rho = 0.795786\n",
      "nSV = 190, nBSV = 190\n",
      "*\n",
      "optimization finished, #iter = 98\n",
      "obj = -519.010535, rho = -0.873276\n",
      "nSV = 195, nBSV = 193\n",
      "*\n",
      "optimization finished, #iter = 103\n",
      "obj = -536.875089, rho = -0.801651\n",
      "nSV = 206, nBSV = 206\n",
      "*\n",
      "optimization finished, #iter = 100\n",
      "obj = -524.847515, rho = 0.895783\n",
      "nSV = 194, nBSV = 194\n",
      "Total nSV = 1000\n"
     ]
    }
   ],
   "source": [
    "# Can skip this step if loading from previous result \n",
    "svcrbf.fit(Xtr,ytr)\n",
    "import pickle\n",
    "with open( \"mnist_svcrbf.p\", \"wb\" ) as fp:\n",
    "    pickle.dump( [svcrbf, Xs, y, Iperm, ntr, nts], fp)"
   ]
  },
  {
   "cell_type": "code",
   "execution_count": 46,
   "metadata": {},
   "outputs": [],
   "source": [
    "import pickle\n",
    "with open( \"mnist_svcrbf.p\", \"rb\" ) as fp:\n",
    "    svcrbf, Xs, y, Iperm, ntr, nts = pickle.load(fp)\n",
    "Xtr = Xs[Iperm[:ntr],:]\n",
    "ytr = y[Iperm[:ntr]]\n",
    "Xts = Xs[Iperm[ntr:ntr+nts],:]\n",
    "yts = y[Iperm[ntr:ntr+nts]]"
   ]
  },
  {
   "cell_type": "code",
   "execution_count": 47,
   "metadata": {},
   "outputs": [],
   "source": [
    "# skip if load from saved result\n",
    "yhat_ts = svcrbf.predict(Xts)\n",
    "\n",
    "with open(\"mnist_svcrbf_test.p\", \"wb\") as fp:\n",
    "    pickle.dump([yts,yhat_ts,Xts], fp)"
   ]
  },
  {
   "cell_type": "code",
   "execution_count": 48,
   "metadata": {},
   "outputs": [],
   "source": [
    "# skip if you run the previouse cell\n",
    "with open(\"mnist_svcrbf_test.p\", \"rb\") as fp:\n",
    "    yts,yhat_ts,Xts = pickle.load(fp)"
   ]
  },
  {
   "cell_type": "code",
   "execution_count": 49,
   "metadata": {},
   "outputs": [
    {
     "name": "stdout",
     "output_type": "stream",
     "text": [
      "Accuaracy = 0.086575\n"
     ]
    }
   ],
   "source": [
    "acc = np.mean(yhat_ts == yts)\n",
    "print('Accuaracy = {0:f}'.format(acc))"
   ]
  },
  {
   "cell_type": "markdown",
   "metadata": {},
   "source": [
    "We see that the RBF kernel provides more accurate results. Now let us plot some errors\n",
    "\n"
   ]
  },
  {
   "cell_type": "code",
   "execution_count": 50,
   "metadata": {},
   "outputs": [
    {
     "data": {
      "image/png": "[encoded data removed]",
      "text/plain": [
       "<Figure size 1000x500 with 5 Axes>"
      ]
     },
     "metadata": {},
     "output_type": "display_data"
    }
   ],
   "source": [
    "Ierr = np.where((yhat_ts != yts))[0]\n",
    "nplt = 5\n",
    "plt.figure(figsize=(10, 5))\n",
    "for i in range(nplt):        \n",
    "    plt.subplot(1,nplt,i+1)        \n",
    "    ind = Ierr[i]    \n",
    "    plt_digit(Xts[ind,:])        \n",
    "    title = 'true={0:d} est={1:d}'.format(yts[ind].astype(int), yhat1[ind].astype(int))\n",
    "    plt.title(title)"
   ]
  },
  {
   "cell_type": "markdown",
   "metadata": {},
   "source": [
    "We see that again a human would not have made these errors, but the digits in error are much less clear.\n",
    "\n"
   ]
  },
  {
   "cell_type": "markdown",
   "metadata": {},
   "source": [
    "# Looking at the Support Vectors\n",
    "Let's take a look at the support vectors. We see there about 5000 support vectors. So, about half the training samples were used as SVs, more than that for the linear kernel. This is partly why the prediction was so slow."
   ]
  },
  {
   "cell_type": "code",
   "execution_count": 51,
   "metadata": {},
   "outputs": [
    {
     "data": {
      "text/plain": [
       "(1000, 64)"
      ]
     },
     "execution_count": 51,
     "metadata": {},
     "output_type": "execute_result"
    }
   ],
   "source": [
    "S = svcrbf.support_vectors_\n",
    "S.shape"
   ]
  },
  {
   "cell_type": "markdown",
   "metadata": {},
   "source": [
    "We can plot some of the vectors.\n",
    "\n"
   ]
  },
  {
   "cell_type": "code",
   "execution_count": 52,
   "metadata": {},
   "outputs": [
    {
     "data": {
      "image/png": "[encoded data removed]",
      "text/plain": [
       "<Figure size 1000x400 with 5 Axes>"
      ]
     },
     "metadata": {},
     "output_type": "display_data"
    }
   ],
   "source": [
    "nplt = 5\n",
    "nsv = S.shape[0]\n",
    "Iperms = np.random.permutation(nsv)\n",
    "plt.figure(figsize=(10, 4))\n",
    "for i in range(nplt):        \n",
    "    plt.subplot(1,nplt,i+1)        \n",
    "    ind = Iperms[i]\n",
    "    plt_digit(S[ind,:])\n"
   ]
  },
  {
   "cell_type": "markdown",
   "metadata": {},
   "source": [
    "In this demo, we specified the parameters for the SVC. In the lab, you will be asked to find the optimal parameters through cross validation."
   ]
  },
  {
   "cell_type": "code",
   "execution_count": null,
   "metadata": {},
   "outputs": [],
   "source": []
  }
 ],
 "metadata": {
  "kernelspec": {
   "display_name": "Python 3",
   "language": "python",
   "name": "python3"
  },
  "language_info": {
   "codemirror_mode": {
    "name": "ipython",
    "version": 3
   },
   "file_extension": ".py",
   "mimetype": "text/x-python",
   "name": "python",
   "nbconvert_exporter": "python",
   "pygments_lexer": "ipython3",
   "version": "3.8.5"
  },
  "vscode": {
   "interpreter": {
    "hash": "682f273df64f064a413320aa9e4ff3fe151154b5a3f01388ece0397f0075e1b5"
   }
  }
 },
 "nbformat": 4,
 "nbformat_minor": 2
}
