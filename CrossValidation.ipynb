{
 "cells": [
  {
   "cell_type": "code",
   "execution_count": 1,
   "metadata": {},
   "outputs": [],
   "source": [
    "import pandas as pd\n",
    "from sklearn.model_selection import train_test_split\n",
    "from sklearn.model_selection import GridSearchCV\n",
    "from sklearn.tree import DecisionTreeClassifier, plot_tree\n",
    "from sklearn.svm import SVC\n",
    "from sklearn.metrics import accuracy_score\n",
    "import matplotlib.pyplot as plt\n",
    "from sklearn.ensemble import AdaBoostClassifier\n",
    "from sklearn.ensemble import RandomForestClassifier\n",
    "from sklearn.model_selection import cross_val_score\n",
    "from sklearn.metrics import precision_recall_fscore_support"
   ]
  },
  {
   "cell_type": "code",
   "execution_count": 2,
   "metadata": {},
   "outputs": [],
   "source": [
    "# !pip install -U scikit-learn"
   ]
  },
  {
   "cell_type": "code",
   "execution_count": 3,
   "metadata": {},
   "outputs": [],
   "source": [
    "seed = 42"
   ]
  },
  {
   "cell_type": "markdown",
   "metadata": {},
   "source": [
    "# Part 1. Implement 4 Cross Validation Methods"
   ]
  },
  {
   "cell_type": "markdown",
   "metadata": {},
   "source": [
    "## 1) Load Data"
   ]
  },
  {
   "cell_type": "code",
   "execution_count": 4,
   "metadata": {},
   "outputs": [],
   "source": [
    "feature_cols = [f'feature_{x}' for x in range(1, 31)]"
   ]
  },
  {
   "cell_type": "code",
   "execution_count": 5,
   "metadata": {},
   "outputs": [],
   "source": [
    "cols = [\"ID\", \"Diagnosis\"] + feature_cols"
   ]
  },
  {
   "cell_type": "code",
   "execution_count": 6,
   "metadata": {},
   "outputs": [],
   "source": [
    "df = pd.read_csv(\"wdbc.data\", header=None, names=cols)"
   ]
  },
  {
   "cell_type": "code",
   "execution_count": 7,
   "metadata": {},
   "outputs": [],
   "source": [
    "X = df[feature_cols]"
   ]
  },
  {
   "cell_type": "code",
   "execution_count": 8,
   "metadata": {},
   "outputs": [],
   "source": [
    "y = df['Diagnosis'].map({'B': 0,\n",
    "                         'M': 1})"
   ]
  },
  {
   "cell_type": "code",
   "execution_count": 9,
   "metadata": {},
   "outputs": [
    {
     "data": {
      "text/plain": [
       "array([1, 0])"
      ]
     },
     "execution_count": 9,
     "metadata": {},
     "output_type": "execute_result"
    }
   ],
   "source": [
    "y.unique()"
   ]
  },
  {
   "cell_type": "code",
   "execution_count": 10,
   "metadata": {},
   "outputs": [],
   "source": [
    "X_train, X_test, y_train, y_test = train_test_split(X, y, test_size=0.2, random_state=seed, stratify=y)"
   ]
  },
  {
   "cell_type": "markdown",
   "metadata": {},
   "source": [
    "## 2) DecisionTree Model"
   ]
  },
  {
   "cell_type": "code",
   "execution_count": 11,
   "metadata": {},
   "outputs": [],
   "source": [
    "dt = DecisionTreeClassifier(random_state=seed)"
   ]
  },
  {
   "cell_type": "markdown",
   "metadata": {},
   "source": [
    "## 3) Cross Validations"
   ]
  },
  {
   "cell_type": "markdown",
   "metadata": {},
   "source": [
    "### 1. KFold"
   ]
  },
  {
   "cell_type": "code",
   "execution_count": 12,
   "metadata": {},
   "outputs": [
    {
     "data": {
      "text/plain": [
       "KFold(n_splits=3, random_state=None, shuffle=False)"
      ]
     },
     "execution_count": 12,
     "metadata": {},
     "output_type": "execute_result"
    }
   ],
   "source": [
    "from sklearn.model_selection import KFold\n",
    "cv1 = KFold(n_splits=3)\n",
    "cv1"
   ]
  },
  {
   "cell_type": "code",
   "execution_count": 13,
   "metadata": {},
   "outputs": [
    {
     "name": "stdout",
     "output_type": "stream",
     "text": [
      "(379,) (190,)\n",
      "(379,) (190,)\n",
      "(380,) (189,)\n"
     ]
    }
   ],
   "source": [
    "for train, test in cv1.split(X, y):\n",
    "    print(train.shape, test.shape)"
   ]
  },
  {
   "cell_type": "code",
   "execution_count": 14,
   "metadata": {},
   "outputs": [
    {
     "data": {
      "text/plain": [
       "array([0.96052632, 0.92763158, 0.92715232])"
      ]
     },
     "execution_count": 14,
     "metadata": {},
     "output_type": "execute_result"
    }
   ],
   "source": [
    "cross_val_score(dt, X_train, y_train, cv=cv1)"
   ]
  },
  {
   "cell_type": "markdown",
   "metadata": {},
   "source": [
    "### 2. RepeatedKFold"
   ]
  },
  {
   "cell_type": "code",
   "execution_count": 15,
   "metadata": {},
   "outputs": [
    {
     "data": {
      "text/plain": [
       "RepeatedKFold(n_repeats=2, n_splits=3, random_state=42)"
      ]
     },
     "execution_count": 15,
     "metadata": {},
     "output_type": "execute_result"
    }
   ],
   "source": [
    "from sklearn.model_selection import RepeatedKFold\n",
    "cv2 = RepeatedKFold(n_splits=3, n_repeats=2, random_state=seed)\n",
    "cv2"
   ]
  },
  {
   "cell_type": "code",
   "execution_count": 16,
   "metadata": {},
   "outputs": [
    {
     "name": "stdout",
     "output_type": "stream",
     "text": [
      "(379,) (190,)\n",
      "(379,) (190,)\n",
      "(380,) (189,)\n",
      "(379,) (190,)\n",
      "(379,) (190,)\n",
      "(380,) (189,)\n"
     ]
    }
   ],
   "source": [
    "for train, test in cv2.split(X, y):\n",
    "    print(train.shape, test.shape)"
   ]
  },
  {
   "cell_type": "code",
   "execution_count": 17,
   "metadata": {},
   "outputs": [
    {
     "data": {
      "text/plain": [
       "array([0.91447368, 0.94078947, 0.9205298 , 0.92105263, 0.92763158,\n",
       "       0.92715232])"
      ]
     },
     "execution_count": 17,
     "metadata": {},
     "output_type": "execute_result"
    }
   ],
   "source": [
    "cross_val_score(dt, X_train, y_train, cv=cv2)"
   ]
  },
  {
   "cell_type": "markdown",
   "metadata": {},
   "source": [
    "### 3. StratifiedKFold"
   ]
  },
  {
   "cell_type": "code",
   "execution_count": 18,
   "metadata": {},
   "outputs": [
    {
     "data": {
      "text/plain": [
       "StratifiedKFold(n_splits=3, random_state=None, shuffle=False)"
      ]
     },
     "execution_count": 18,
     "metadata": {},
     "output_type": "execute_result"
    }
   ],
   "source": [
    "from sklearn.model_selection import StratifiedKFold\n",
    "cv3 = StratifiedKFold(n_splits=3)\n",
    "cv3"
   ]
  },
  {
   "cell_type": "code",
   "execution_count": 19,
   "metadata": {},
   "outputs": [
    {
     "name": "stdout",
     "output_type": "stream",
     "text": [
      "(379,) (190,)\n",
      "(379,) (190,)\n",
      "(380,) (189,)\n"
     ]
    }
   ],
   "source": [
    "for train, test in cv3.split(X, y):\n",
    "    print(train.shape, test.shape)"
   ]
  },
  {
   "cell_type": "code",
   "execution_count": 20,
   "metadata": {},
   "outputs": [
    {
     "data": {
      "text/plain": [
       "array([0.96052632, 0.92763158, 0.92715232])"
      ]
     },
     "execution_count": 20,
     "metadata": {},
     "output_type": "execute_result"
    }
   ],
   "source": [
    "cross_val_score(dt, X_train, y_train, cv=cv3)"
   ]
  },
  {
   "cell_type": "markdown",
   "metadata": {},
   "source": [
    "### 4. ShuffleSplit"
   ]
  },
  {
   "cell_type": "code",
   "execution_count": 21,
   "metadata": {},
   "outputs": [
    {
     "data": {
      "text/plain": [
       "ShuffleSplit(n_splits=3, random_state=42, test_size=0.3, train_size=None)"
      ]
     },
     "execution_count": 21,
     "metadata": {},
     "output_type": "execute_result"
    }
   ],
   "source": [
    "from sklearn.model_selection import ShuffleSplit\n",
    "cv4 = ShuffleSplit(n_splits=3, test_size=0.3, random_state=seed)\n",
    "cv4"
   ]
  },
  {
   "cell_type": "code",
   "execution_count": 22,
   "metadata": {},
   "outputs": [
    {
     "name": "stdout",
     "output_type": "stream",
     "text": [
      "(398,) (171,)\n",
      "(398,) (171,)\n",
      "(398,) (171,)\n"
     ]
    }
   ],
   "source": [
    "for train, test in cv4.split(X, y):\n",
    "    print(train.shape, test.shape)"
   ]
  },
  {
   "cell_type": "code",
   "execution_count": 23,
   "metadata": {},
   "outputs": [
    {
     "data": {
      "text/plain": [
       "array([0.91240876, 0.91240876, 0.94160584])"
      ]
     },
     "execution_count": 23,
     "metadata": {},
     "output_type": "execute_result"
    }
   ],
   "source": [
    "cross_val_score(dt, X_train, y_train, cv=cv4)"
   ]
  },
  {
   "cell_type": "markdown",
   "metadata": {},
   "source": [
    "# Part 2. Compare with previous best models"
   ]
  },
  {
   "cell_type": "code",
   "execution_count": 24,
   "metadata": {},
   "outputs": [],
   "source": [
    "def models(model_kind):\n",
    "    \n",
    "    if model_kind == 'svc':\n",
    "        model = SVC(random_state=seed)\n",
    "        params = {'C': [0.01, 0.1], \n",
    "              'gamma': [0.1, 1],\n",
    "              'kernel': ['rbf']\n",
    "            }\n",
    "    elif model_kind == 'dt':\n",
    "        model = DecisionTreeClassifier(random_state=seed)\n",
    "        params = {\n",
    "                'criterion':['gini', 'entropy'], \n",
    "                'max_depth':range(1,7),\n",
    "            }\n",
    "    elif model_kind == 'adaboost':\n",
    "        model = AdaBoostClassifier(random_state=seed)\n",
    "        params = {\n",
    "            'n_estimators': [50, 70], \n",
    "            'learning_rate': [0.01, 0.1], \n",
    "            'algorithm': ['SAMME.R'],\n",
    "        }\n",
    "    elif model_kind == 'rf':\n",
    "        model = RandomForestClassifier(random_state=seed)\n",
    "        params = {\n",
    "                'criterion':['gini', 'entropy'], \n",
    "                'max_depth':range(1,7),\n",
    "            }\n",
    "    else:\n",
    "        print('invalid model')\n",
    "    \n",
    "    model = GridSearchCV(model, params)\n",
    "    model.fit(X_train, y_train)\n",
    "    print(model)\n",
    "    print('Best Model Params:')\n",
    "    print(model.best_params_)\n",
    "    print('')\n",
    "    \n",
    "    y_train_pred = model.predict(X_train)\n",
    "    print('Best model measuresments on train data set (Precision, Recall, f1)')\n",
    "    train_scores = precision_recall_fscore_support(y_train, y_train_pred, average='macro')\n",
    "    print(train_scores)\n",
    "    \n",
    "    print('Best model measuresments on test data set (Precision, Recall, f1)')\n",
    "    y_test_pred = model.predict(X_test)\n",
    "    test_scores = precision_recall_fscore_support(y_test, y_test_pred, average='macro')\n",
    "    print(test_scores)\n",
    "    \n",
    "    print('')\n",
    "    print('##### Cross Validation Measurements #######')\n",
    "    print('# 1. KFold')\n",
    "    for m in ['precision', 'recall', 'f1']:\n",
    "        print(f\"----{m}---\")\n",
    "        scores = cross_val_score(model, X_train, y_train, cv=cv1, scoring=m)\n",
    "        print(scores)\n",
    "        print(f\"mean: {scores.mean()}; std: {scores.std()}\")\n",
    "    \n",
    "    print('')\n",
    "    print('# 2. ShuffleSplit')\n",
    "    for m in ['precision', 'recall', 'f1']:\n",
    "        print(f\"----{m}---\")\n",
    "        scores = cross_val_score(model, X_train, y_train, cv=cv4, scoring=m)\n",
    "        print(scores)\n",
    "        print(f\"mean: {scores.mean()}; std: {scores.std()}\")\n",
    "    \n",
    "    "
   ]
  },
  {
   "cell_type": "markdown",
   "metadata": {},
   "source": [
    "## SVM"
   ]
  },
  {
   "cell_type": "code",
   "execution_count": 25,
   "metadata": {},
   "outputs": [
    {
     "name": "stdout",
     "output_type": "stream",
     "text": [
      "GridSearchCV(estimator=SVC(random_state=42),\n",
      "             param_grid={'C': [0.01, 0.1], 'gamma': [0.1, 1],\n",
      "                         'kernel': ['rbf']})\n",
      "Best Model Params:\n",
      "{'C': 0.01, 'gamma': 0.1, 'kernel': 'rbf'}\n",
      "\n",
      "Best model measuresments on train data set (Precision, Recall, f1)\n",
      "(0.3131868131868132, 0.5, 0.38513513513513514, None)\n",
      "Best model measuresments on test data set (Precision, Recall, f1)\n",
      "(0.3157894736842105, 0.5, 0.3870967741935484, None)\n",
      "\n",
      "##### Cross Validation Measurements #######\n",
      "# 1. KFold\n",
      "----precision---\n"
     ]
    },
    {
     "name": "stderr",
     "output_type": "stream",
     "text": [
      "/Users/yaochen/opt/anaconda3/lib/python3.8/site-packages/sklearn/metrics/_classification.py:1344: UndefinedMetricWarning: Precision and F-score are ill-defined and being set to 0.0 in labels with no predicted samples. Use `zero_division` parameter to control this behavior.\n",
      "  _warn_prf(average, modifier, msg_start, len(result))\n",
      "/Users/yaochen/opt/anaconda3/lib/python3.8/site-packages/sklearn/metrics/_classification.py:1344: UndefinedMetricWarning: Precision and F-score are ill-defined and being set to 0.0 in labels with no predicted samples. Use `zero_division` parameter to control this behavior.\n",
      "  _warn_prf(average, modifier, msg_start, len(result))\n",
      "/Users/yaochen/opt/anaconda3/lib/python3.8/site-packages/sklearn/metrics/_classification.py:1344: UndefinedMetricWarning: Precision is ill-defined and being set to 0.0 due to no predicted samples. Use `zero_division` parameter to control this behavior.\n",
      "  _warn_prf(average, modifier, msg_start, len(result))\n",
      "/Users/yaochen/opt/anaconda3/lib/python3.8/site-packages/sklearn/metrics/_classification.py:1344: UndefinedMetricWarning: Precision is ill-defined and being set to 0.0 due to no predicted samples. Use `zero_division` parameter to control this behavior.\n",
      "  _warn_prf(average, modifier, msg_start, len(result))\n",
      "/Users/yaochen/opt/anaconda3/lib/python3.8/site-packages/sklearn/metrics/_classification.py:1344: UndefinedMetricWarning: Precision is ill-defined and being set to 0.0 due to no predicted samples. Use `zero_division` parameter to control this behavior.\n",
      "  _warn_prf(average, modifier, msg_start, len(result))\n"
     ]
    },
    {
     "name": "stdout",
     "output_type": "stream",
     "text": [
      "[0. 0. 0.]\n",
      "mean: 0.0; std: 0.0\n",
      "----recall---\n",
      "[0. 0. 0.]\n",
      "mean: 0.0; std: 0.0\n",
      "----f1---\n",
      "[0. 0. 0.]\n",
      "mean: 0.0; std: 0.0\n",
      "\n",
      "# 2. ShuffleSplit\n",
      "----precision---\n"
     ]
    },
    {
     "name": "stderr",
     "output_type": "stream",
     "text": [
      "/Users/yaochen/opt/anaconda3/lib/python3.8/site-packages/sklearn/metrics/_classification.py:1344: UndefinedMetricWarning: Precision is ill-defined and being set to 0.0 due to no predicted samples. Use `zero_division` parameter to control this behavior.\n",
      "  _warn_prf(average, modifier, msg_start, len(result))\n",
      "/Users/yaochen/opt/anaconda3/lib/python3.8/site-packages/sklearn/metrics/_classification.py:1344: UndefinedMetricWarning: Precision is ill-defined and being set to 0.0 due to no predicted samples. Use `zero_division` parameter to control this behavior.\n",
      "  _warn_prf(average, modifier, msg_start, len(result))\n",
      "/Users/yaochen/opt/anaconda3/lib/python3.8/site-packages/sklearn/metrics/_classification.py:1344: UndefinedMetricWarning: Precision is ill-defined and being set to 0.0 due to no predicted samples. Use `zero_division` parameter to control this behavior.\n",
      "  _warn_prf(average, modifier, msg_start, len(result))\n"
     ]
    },
    {
     "name": "stdout",
     "output_type": "stream",
     "text": [
      "[0. 0. 0.]\n",
      "mean: 0.0; std: 0.0\n",
      "----recall---\n",
      "[0. 0. 0.]\n",
      "mean: 0.0; std: 0.0\n",
      "----f1---\n",
      "[0. 0. 0.]\n",
      "mean: 0.0; std: 0.0\n"
     ]
    }
   ],
   "source": [
    "models('svc')"
   ]
  },
  {
   "cell_type": "markdown",
   "metadata": {},
   "source": [
    "## Decision Tree"
   ]
  },
  {
   "cell_type": "code",
   "execution_count": 26,
   "metadata": {},
   "outputs": [
    {
     "name": "stdout",
     "output_type": "stream",
     "text": [
      "GridSearchCV(estimator=DecisionTreeClassifier(random_state=42),\n",
      "             param_grid={'criterion': ['gini', 'entropy'],\n",
      "                         'max_depth': range(1, 7)})\n",
      "Best Model Params:\n",
      "{'criterion': 'entropy', 'max_depth': 6}\n",
      "\n",
      "Best model measuresments on train data set (Precision, Recall, f1)\n",
      "(0.9965156794425087, 0.9941176470588236, 0.9952931683700914, None)\n",
      "Best model measuresments on test data set (Precision, Recall, f1)\n",
      "(0.9412393162393162, 0.9097222222222223, 0.9220512820512821, None)\n",
      "\n",
      "##### Cross Validation Measurements #######\n",
      "# 1. KFold\n",
      "----precision---\n",
      "[0.98076923 0.9245283  0.83928571]\n",
      "mean: 0.9148610823139126; std: 0.05816349204233454\n",
      "----recall---\n",
      "[0.86440678 0.84482759 0.88679245]\n",
      "mean: 0.8653422728993675; std: 0.017144850896151958\n",
      "----f1---\n",
      "[0.91891892 0.88288288 0.86238532]\n",
      "mean: 0.8880623743009064; std: 0.023368529679520182\n",
      "\n",
      "# 2. ShuffleSplit\n",
      "----precision---\n",
      "[0.91836735 0.90697674 0.95833333]\n",
      "mean: 0.9278924748193851; std: 0.022021517629616745\n",
      "----recall---\n",
      "[0.86538462 0.84782609 0.90196078]\n",
      "mean: 0.8717238288849543; std: 0.02255039667561186\n",
      "----f1---\n",
      "[0.89108911 0.87640449 0.92929293]\n",
      "mean: 0.8989288441952809; std: 0.02229189275391824\n"
     ]
    }
   ],
   "source": [
    "models('dt')"
   ]
  },
  {
   "cell_type": "markdown",
   "metadata": {},
   "source": [
    "## AdaBoost"
   ]
  },
  {
   "cell_type": "code",
   "execution_count": 27,
   "metadata": {},
   "outputs": [
    {
     "name": "stdout",
     "output_type": "stream",
     "text": [
      "GridSearchCV(estimator=AdaBoostClassifier(random_state=42),\n",
      "             param_grid={'algorithm': ['SAMME.R'], 'learning_rate': [0.01, 0.1],\n",
      "                         'n_estimators': [50, 70]})\n",
      "Best Model Params:\n",
      "{'algorithm': 'SAMME.R', 'learning_rate': 0.1, 'n_estimators': 70}\n",
      "\n",
      "Best model measuresments on train data set (Precision, Recall, f1)\n",
      "(0.9849237281032603, 0.9776573787409701, 0.9810795076513639, None)\n",
      "Best model measuresments on test data set (Precision, Recall, f1)\n",
      "(0.9736842105263157, 0.9523809523809523, 0.9614864864864865, None)\n",
      "\n",
      "##### Cross Validation Measurements #######\n",
      "# 1. KFold\n",
      "----precision---\n",
      "[1.         0.96428571 0.87272727]\n",
      "mean: 0.9456709956709957; std: 0.0536001715711705\n",
      "----recall---\n",
      "[0.94915254 0.93103448 0.90566038]\n",
      "mean: 0.9286158008299976; std: 0.017837780525495797\n",
      "----f1---\n",
      "[0.97391304 0.94736842 0.88888889]\n",
      "mean: 0.936723451139927; std: 0.03551772566143225\n",
      "\n",
      "# 2. ShuffleSplit\n",
      "----precision---\n",
      "[0.90566038 0.93181818 0.94117647]\n",
      "mean: 0.9262183432549692; std: 0.015030344052981866\n",
      "----recall---\n",
      "[0.92307692 0.89130435 0.94117647]\n",
      "mean: 0.9185192471637484; std: 0.020613692286080933\n",
      "----f1---\n",
      "[0.91428571 0.91111111 0.94117647]\n",
      "mean: 0.9221910986616869; std: 0.013487099681327075\n"
     ]
    }
   ],
   "source": [
    "models('adaboost')"
   ]
  },
  {
   "cell_type": "markdown",
   "metadata": {},
   "source": [
    "## Random Forest"
   ]
  },
  {
   "cell_type": "code",
   "execution_count": 28,
   "metadata": {},
   "outputs": [
    {
     "name": "stdout",
     "output_type": "stream",
     "text": [
      "GridSearchCV(estimator=RandomForestClassifier(random_state=42),\n",
      "             param_grid={'criterion': ['gini', 'entropy'],\n",
      "                         'max_depth': range(1, 7)})\n",
      "Best Model Params:\n",
      "{'criterion': 'gini', 'max_depth': 6}\n",
      "\n",
      "Best model measuresments on train data set (Precision, Recall, f1)\n",
      "(0.9965156794425087, 0.9941176470588236, 0.9952931683700914, None)\n",
      "Best model measuresments on test data set (Precision, Recall, f1)\n",
      "(0.98, 0.9642857142857143, 0.9712773998488284, None)\n",
      "\n",
      "##### Cross Validation Measurements #######\n",
      "# 1. KFold\n",
      "----precision---\n",
      "[1.         0.96226415 0.89090909]\n",
      "mean: 0.9510577472841625; std: 0.045235636569711406\n",
      "----recall---\n",
      "[0.94915254 0.87931034 0.9245283 ]\n",
      "mean: 0.9176637296957534; std: 0.028923172981924605\n",
      "----f1---\n",
      "[0.97391304 0.91891892 0.90740741]\n",
      "mean: 0.9334131232681956; std: 0.02902081295767054\n",
      "\n",
      "# 2. ShuffleSplit\n",
      "----precision---\n",
      "[0.92307692 0.97619048 0.96      ]\n",
      "mean: 0.953089133089133; std: 0.022227347152870655\n",
      "----recall---\n",
      "[0.92307692 0.89130435 0.94117647]\n",
      "mean: 0.9185192471637484; std: 0.020613692286080933\n",
      "----f1---\n",
      "[0.92307692 0.93181818 0.95049505]\n",
      "mean: 0.9351300514666852; std: 0.011435756049407223\n"
     ]
    }
   ],
   "source": [
    "models('rf')"
   ]
  }
 ],
 "metadata": {
  "kernelspec": {
   "display_name": "Python 3",
   "language": "python",
   "name": "python3"
  },
  "language_info": {
   "codemirror_mode": {
    "name": "ipython",
    "version": 3
   },
   "file_extension": ".py",
   "mimetype": "text/x-python",
   "name": "python",
   "nbconvert_exporter": "python",
   "pygments_lexer": "ipython3",
   "version": "3.8.5"
  }
 },
 "nbformat": 4,
 "nbformat_minor": 5
}
